{
 "cells": [
  {
   "cell_type": "code",
   "execution_count": 1,
   "id": "6fca861d-c5fb-4a4d-843d-29b6da3e101a",
   "metadata": {},
   "outputs": [
    {
     "data": {
      "text/plain": [
       "'hello'"
      ]
     },
     "execution_count": 1,
     "metadata": {},
     "output_type": "execute_result"
    }
   ],
   "source": [
    "\"hello\""
   ]
  },
  {
   "cell_type": "code",
   "execution_count": 3,
   "id": "87b0ef0a-28e1-4826-9ae8-d512ce16a940",
   "metadata": {},
   "outputs": [],
   "source": [
    "import pandas as pd"
   ]
  },
  {
   "cell_type": "code",
   "execution_count": 5,
   "id": "943ea376-677c-4988-bbfc-47257b1dc281",
   "metadata": {},
   "outputs": [
    {
     "data": {
      "text/html": [
       "<div>\n",
       "<style scoped>\n",
       "    .dataframe tbody tr th:only-of-type {\n",
       "        vertical-align: middle;\n",
       "    }\n",
       "\n",
       "    .dataframe tbody tr th {\n",
       "        vertical-align: top;\n",
       "    }\n",
       "\n",
       "    .dataframe thead th {\n",
       "        text-align: right;\n",
       "    }\n",
       "</style>\n",
       "<table border=\"1\" class=\"dataframe\">\n",
       "  <thead>\n",
       "    <tr style=\"text-align: right;\">\n",
       "      <th></th>\n",
       "      <th>Category</th>\n",
       "      <th>Question (Bangla)</th>\n",
       "      <th>Answer (Bangla)</th>\n",
       "    </tr>\n",
       "  </thead>\n",
       "  <tbody>\n",
       "    <tr>\n",
       "      <th>0</th>\n",
       "      <td>Crop Advice</td>\n",
       "      <td>ধান চাষের জন্য উপযুক্ত সার কোনটি?</td>\n",
       "      <td>ধান চাষের জন্য ইউরিয়া, টিএসপি ও এমওপি ব্যবহার ...</td>\n",
       "    </tr>\n",
       "    <tr>\n",
       "      <th>1</th>\n",
       "      <td>Crop Advice</td>\n",
       "      <td>গম চাষে কোন পদ্ধতি সবচেয়ে ভালো?</td>\n",
       "      <td>গম চাষের জন্য শস্য আবর্তন পদ্ধতি ব্যবহার করুন।</td>\n",
       "    </tr>\n",
       "    <tr>\n",
       "      <th>2</th>\n",
       "      <td>Crop Advice</td>\n",
       "      <td>ভুট্টা চাষের জন্য সর্বোত্তম সময় কখন?</td>\n",
       "      <td>ফাল্গুন-চৈত্র মাসে ভুট্টা চাষ সবচেয়ে ভালো ফলন ...</td>\n",
       "    </tr>\n",
       "    <tr>\n",
       "      <th>3</th>\n",
       "      <td>Crop Advice</td>\n",
       "      <td>সরিষা চাষের জন্য কোন মাটি সবচেয়ে ভালো?</td>\n",
       "      <td>বেলে দোআঁশ মাটি সরিষা চাষের জন্য উপযুক্ত।</td>\n",
       "    </tr>\n",
       "    <tr>\n",
       "      <th>4</th>\n",
       "      <td>Crop Advice</td>\n",
       "      <td>আলু চাষে ভালো ফলন পেতে হলে কি করণীয়?</td>\n",
       "      <td>আলু চাষের জন্য উচ্চ ফলনশীল জাত ব্যবহার করুন এব...</td>\n",
       "    </tr>\n",
       "    <tr>\n",
       "      <th>...</th>\n",
       "      <td>...</td>\n",
       "      <td>...</td>\n",
       "      <td>...</td>\n",
       "    </tr>\n",
       "    <tr>\n",
       "      <th>95</th>\n",
       "      <td>Government Scheme</td>\n",
       "      <td>কৃষকদের জন্য সর্বশেষ সরকারি সুবিধা কি?</td>\n",
       "      <td>বর্তমানে 'কৃষক সহায়তা প্রকল্প' চালু রয়েছে, বি...</td>\n",
       "    </tr>\n",
       "    <tr>\n",
       "      <th>96</th>\n",
       "      <td>Government Scheme</td>\n",
       "      <td>কৃষি ঋণের জন্য কোথায় আবেদন করতে পারি?</td>\n",
       "      <td>কৃষি উন্নয়ন ব্যাংক ও অন্যান্য সরকারি ব্যাংকে ...</td>\n",
       "    </tr>\n",
       "    <tr>\n",
       "      <th>97</th>\n",
       "      <td>Government Scheme</td>\n",
       "      <td>সরকারি কৃষি ভর্তুকি কীভাবে পাওয়া যাবে?</td>\n",
       "      <td>কৃষি কার্ডের মাধ্যমে সরকারিভাবে কৃষি ভর্তুকি প...</td>\n",
       "    </tr>\n",
       "    <tr>\n",
       "      <th>98</th>\n",
       "      <td>Government Scheme</td>\n",
       "      <td>সেচ সুবিধার জন্য সরকারি সহায়তা কী?</td>\n",
       "      <td>সরকার সেচ ব্যবস্থার জন্য কৃষকদের সহজ ঋণ সুবিধা...</td>\n",
       "    </tr>\n",
       "    <tr>\n",
       "      <th>99</th>\n",
       "      <td>Government Scheme</td>\n",
       "      <td>কৃষি যন্ত্রপাতি কেনার জন্য সরকারি অনুদান কী?</td>\n",
       "      <td>সরকারি কৃষি যন্ত্রপাতি কেনার জন্য ৫০% পর্যন্ত ...</td>\n",
       "    </tr>\n",
       "  </tbody>\n",
       "</table>\n",
       "<p>100 rows × 3 columns</p>\n",
       "</div>"
      ],
      "text/plain": [
       "             Category                             Question (Bangla)  \\\n",
       "0         Crop Advice             ধান চাষের জন্য উপযুক্ত সার কোনটি?   \n",
       "1         Crop Advice               গম চাষে কোন পদ্ধতি সবচেয়ে ভালো?   \n",
       "2         Crop Advice          ভুট্টা চাষের জন্য সর্বোত্তম সময় কখন?   \n",
       "3         Crop Advice        সরিষা চাষের জন্য কোন মাটি সবচেয়ে ভালো?   \n",
       "4         Crop Advice          আলু চাষে ভালো ফলন পেতে হলে কি করণীয়?   \n",
       "..                ...                                           ...   \n",
       "95  Government Scheme        কৃষকদের জন্য সর্বশেষ সরকারি সুবিধা কি?   \n",
       "96  Government Scheme         কৃষি ঋণের জন্য কোথায় আবেদন করতে পারি?   \n",
       "97  Government Scheme        সরকারি কৃষি ভর্তুকি কীভাবে পাওয়া যাবে?   \n",
       "98  Government Scheme            সেচ সুবিধার জন্য সরকারি সহায়তা কী?   \n",
       "99  Government Scheme  কৃষি যন্ত্রপাতি কেনার জন্য সরকারি অনুদান কী?   \n",
       "\n",
       "                                      Answer (Bangla)  \n",
       "0   ধান চাষের জন্য ইউরিয়া, টিএসপি ও এমওপি ব্যবহার ...  \n",
       "1      গম চাষের জন্য শস্য আবর্তন পদ্ধতি ব্যবহার করুন।  \n",
       "2   ফাল্গুন-চৈত্র মাসে ভুট্টা চাষ সবচেয়ে ভালো ফলন ...  \n",
       "3           বেলে দোআঁশ মাটি সরিষা চাষের জন্য উপযুক্ত।  \n",
       "4   আলু চাষের জন্য উচ্চ ফলনশীল জাত ব্যবহার করুন এব...  \n",
       "..                                                ...  \n",
       "95  বর্তমানে 'কৃষক সহায়তা প্রকল্প' চালু রয়েছে, বি...  \n",
       "96  কৃষি উন্নয়ন ব্যাংক ও অন্যান্য সরকারি ব্যাংকে ...  \n",
       "97  কৃষি কার্ডের মাধ্যমে সরকারিভাবে কৃষি ভর্তুকি প...  \n",
       "98  সরকার সেচ ব্যবস্থার জন্য কৃষকদের সহজ ঋণ সুবিধা...  \n",
       "99  সরকারি কৃষি যন্ত্রপাতি কেনার জন্য ৫০% পর্যন্ত ...  \n",
       "\n",
       "[100 rows x 3 columns]"
      ]
     },
     "execution_count": 5,
     "metadata": {},
     "output_type": "execute_result"
    }
   ],
   "source": [
    "pd.read_csv(\"agriculture_data.csv\")"
   ]
  },
  {
   "cell_type": "code",
   "execution_count": null,
   "id": "c7c49609-a821-4079-aa6a-0b6dd07665d6",
   "metadata": {},
   "outputs": [],
   "source": []
  }
 ],
 "metadata": {
  "kernelspec": {
   "display_name": "Python [conda env:base] *",
   "language": "python",
   "name": "conda-base-py"
  },
  "language_info": {
   "codemirror_mode": {
    "name": "ipython",
    "version": 3
   },
   "file_extension": ".py",
   "mimetype": "text/x-python",
   "name": "python",
   "nbconvert_exporter": "python",
   "pygments_lexer": "ipython3",
   "version": "3.12.7"
  }
 },
 "nbformat": 4,
 "nbformat_minor": 5
}
